{
  "cells": [
    {
      "cell_type": "markdown",
      "metadata": {
        "id": "view-in-github",
        "colab_type": "text"
      },
      "source": [
        "<a href=\"https://colab.research.google.com/github/aus10powell/ml-engineer/blob/master/poizon.ipynb\" target=\"_parent\"><img src=\"https://colab.research.google.com/assets/colab-badge.svg\" alt=\"Open In Colab\"/></a>"
      ]
    },
    {
      "cell_type": "markdown",
      "source": [
        "## Setup"
      ],
      "metadata": {
        "id": "cbEPD093otsc"
      }
    },
    {
      "cell_type": "code",
      "execution_count": 7,
      "metadata": {
        "id": "0OxWsThEaiTp"
      },
      "outputs": [],
      "source": [
        "%%capture\n",
        "#!pip install wandb\n",
        "from google.colab import drive\n",
        "import tensorflow as tf\n",
        "import keras\n",
        "\n",
        "\n",
        "# Display/Utility\n",
        "from IPython.display import Image, display\n",
        "from tqdm import tqdm\n",
        "import cv2\n",
        "import numpy as np\n",
        "import wandb\n",
        "from wandb.keras import WandbMetricsLogger\n",
        "import os\n",
        "\n",
        "\n",
        "\n",
        "# ML\n",
        "from tensorflow.keras.applications import ResNet50\n",
        "from tensorflow.keras.models import Sequential\n",
        "from tensorflow.keras.layers import Dense, Flatten, GlobalAveragePooling2D, BatchNormalization\n",
        "from tensorflow.keras.applications.resnet50 import preprocess_input\n",
        "from tensorflow.keras.preprocessing.image import ImageDataGenerator\n",
        "from tensorflow.keras.preprocessing.image import load_img, img_to_array\n",
        "from keras.models import Sequential \n",
        "from keras.layers import Dense, Activation \n",
        "from keras.models import Sequential\n",
        "from keras.layers import Conv2D, MaxPooling2D\n",
        "from keras.layers import Activation, Dropout, Flatten, Dense\n",
        "\n",
        "\n",
        "if tf.test.is_gpu_available():\n",
        "  print('Using GPU')\n",
        "else:\n",
        "  print('Not using GPU')\n",
        "  \n",
        "  \n",
        "drive.mount('/content/gdrive', force_remount=False)"
      ]
    },
    {
      "cell_type": "markdown",
      "metadata": {
        "id": "EHPhGmmSNjX0"
      },
      "source": [
        "##### Links\n",
        "* https://blog.keras.io/building-powerful-image-classification-models-using-very-little-data.html"
      ]
    },
    {
      "cell_type": "markdown",
      "source": [
        "### Utility Functions"
      ],
      "metadata": {
        "id": "dhzC6s8Zop_y"
      }
    },
    {
      "cell_type": "code",
      "execution_count": 2,
      "metadata": {
        "id": "e51UGGyhkIBx"
      },
      "outputs": [],
      "source": [
        "from keras import backend as K\n",
        "\n",
        "def f1(y_true, y_pred):\n",
        "    def recall(y_true, y_pred):\n",
        "        \"\"\"Recall metric.\n",
        "\n",
        "        Only computes a batch-wise average of recall.\n",
        "\n",
        "        Computes the recall, a metric for multi-label classification of\n",
        "        how many relevant items are selected.\n",
        "        \"\"\"\n",
        "        true_positives = K.sum(K.round(K.clip(y_true * y_pred, 0, 1)))\n",
        "        possible_positives = K.sum(K.round(K.clip(y_true, 0, 1)))\n",
        "        recall = true_positives / (possible_positives + K.epsilon())\n",
        "        return recall\n",
        "\n",
        "    def precision(y_true, y_pred):\n",
        "        \"\"\"Precision metric.\n",
        "\n",
        "        Only computes a batch-wise average of precision.\n",
        "\n",
        "        Computes the precision, a metric for multi-label classification of\n",
        "        how many selected items are relevant.\n",
        "        \"\"\"\n",
        "        true_positives = K.sum(K.round(K.clip(y_true * y_pred, 0, 1)))\n",
        "        predicted_positives = K.sum(K.round(K.clip(y_pred, 0, 1)))\n",
        "        precision = true_positives / (predicted_positives + K.epsilon())\n",
        "        return precision\n",
        "    precision = precision(y_true, y_pred)\n",
        "    recall = recall(y_true, y_pred)\n",
        "    return 2*((precision*recall)/(precision+recall+K.epsilon()))\n",
        "  \n",
        "\n",
        "\n",
        "def classify_new_image(img_path = None):\n",
        "  \"\"\"Returns 1 for smoking; 0 for not smoking. Single image\"\"\"\n",
        "\n",
        "  try:\n",
        "    img = cv2.imread(img_path)\n",
        "    img = cv2.resize(img,(image_size,image_size))\n",
        "    img = np.reshape(img,[1,image_size,image_size,3])\n",
        "\n",
        "    classes = model.predict_classes(img)\n",
        "    return classes[0][0]\n",
        "  except Exception as e:\n",
        "    print(e)\n",
        "    \n",
        "def classify_image(img_path = None):\n",
        "  \"\"\"Returns 1 for smoking; 0 for not smoking. Single image\"\"\"\n",
        "\n",
        "  try:\n",
        "    img = cv2.imread(img_path)\n",
        "    img = cv2.resize(img,(image_size,image_size))\n",
        "    img = np.reshape(img,[1,image_size,image_size,3])\n",
        "\n",
        "    classes = model.predict_classes(img)\n",
        "    return classes\n",
        "  except Exception as e:\n",
        "    print(e)"
      ]
    },
    {
      "cell_type": "code",
      "execution_count": null,
      "metadata": {
        "id": "T58lS71TdJKY"
      },
      "outputs": [],
      "source": [
        "def count_jpg_files(folder_path):\n",
        "    count = 0\n",
        "\n",
        "    for root, dirs, files in os.walk(folder_path):\n",
        "        for file in files:\n",
        "            if file.endswith(\".jpg\"):\n",
        "                count += 1\n",
        "\n",
        "    return count"
      ]
    },
    {
      "cell_type": "code",
      "execution_count": 3,
      "metadata": {
        "id": "c6Zi0_OSan7q",
        "colab": {
          "base_uri": "https://localhost:8080/"
        },
        "outputId": "610da443-e895-4828-a04f-2cf677cc5280"
      },
      "outputs": [
        {
          "output_type": "stream",
          "name": "stdout",
          "text": [
            "['split_data']\n",
            "['not_poison', 'is_poison']\n",
            "validation_path: ./gdrive/My Drive/poizon/split_data/validation\n",
            "test_path: ./gdrive/My Drive/poizon/split_data/test\n",
            "./gdrive/My Drive/poizon/split_data/train\n",
            "./gdrive/My Drive/poizon/split_data/test\n",
            "./gdrive/My Drive/poizon/split_data/validation\n"
          ]
        }
      ],
      "source": [
        "root_path = './gdrive/My Drive/poizon/'  # all images together: all_train120319\n",
        "print(os.listdir(root_path))\n",
        "classes = ['poizon','not_poizon']\n",
        "\n",
        "train_path = root_path + 'split_data/train'\n",
        "print(os.listdir(train_path))\n",
        "\n",
        "validation_path = root_path + 'split_data/validation'\n",
        "print('validation_path:',validation_path)\n",
        "\n",
        "test_path = root_path + 'split_data/test'\n",
        "print('test_path:',test_path)\n",
        "\n",
        "\n",
        "\n",
        "# Iterate over the split directories to validate those paths\n",
        "for path in [train_path,test_path,validation_path]:\n",
        "  print(path)\n",
        "  assert os.path.isdir(path)\n",
        "\n",
        "import hashlib\n",
        "\n",
        "def find_duplicate_files(folder):\n",
        "    # Dictionary to store file hashes and their paths\n",
        "    file_hashes = {}\n",
        "\n",
        "    # Traverse through the folder and its subfolders\n",
        "    for root, dirs, files in os.walk(folder):\n",
        "        for filename in files:\n",
        "            # Get the full path of the file\n",
        "            file_path = os.path.join(root, filename)\n",
        "\n",
        "            # Calculate the MD5 hash of the file\n",
        "            file_hash = hash_file(file_path)\n",
        "\n",
        "            # Check if the file hash already exists\n",
        "            if file_hash in file_hashes:\n",
        "                # Duplicate file found\n",
        "                print(f\"Duplicate file found: {file_path}\")\n",
        "                print(f\"Original file path: {file_hashes[file_hash]}\")\n",
        "                print()\n",
        "            else:\n",
        "                # Add the file hash and its path to the dictionary\n",
        "                file_hashes[file_hash] = file_path\n",
        "\n",
        "def hash_file(file_path):\n",
        "    # Create a hash object\n",
        "    hash_obj = hashlib.md5()\n",
        "\n",
        "    # Open the file in binary mode\n",
        "    with open(file_path, \"rb\") as file:\n",
        "        # Read the file in chunks to avoid memory issues with large files\n",
        "        for chunk in iter(lambda: file.read(4096), b\"\"):\n",
        "            # Update the hash object with the chunk\n",
        "            hash_obj.update(chunk)\n",
        "\n",
        "    # Get the hexadecimal representation of the hash\n",
        "    file_hash = hash_obj.hexdigest()\n",
        "\n",
        "    return file_hash\n",
        "\n",
        "# Example usage\n",
        "folder_path = root_path\n",
        "find_duplicate_files(folder_path)\n"
      ]
    },
    {
      "cell_type": "code",
      "execution_count": 4,
      "metadata": {
        "id": "XQysMWfXbHTv",
        "colab": {
          "base_uri": "https://localhost:8080/",
          "height": 153
        },
        "outputId": "0d1f01ed-710a-42e8-934f-8f770f14bc8d"
      },
      "outputs": [
        {
          "output_type": "stream",
          "name": "stderr",
          "text": [
            "\u001b[34m\u001b[1mwandb\u001b[0m: Currently logged in as: \u001b[33maus10powell\u001b[0m. Use \u001b[1m`wandb login --relogin`\u001b[0m to force relogin\n"
          ]
        },
        {
          "output_type": "display_data",
          "data": {
            "text/plain": [
              "<IPython.core.display.HTML object>"
            ],
            "text/html": [
              "Tracking run with wandb version 0.15.3"
            ]
          },
          "metadata": {}
        },
        {
          "output_type": "display_data",
          "data": {
            "text/plain": [
              "<IPython.core.display.HTML object>"
            ],
            "text/html": [
              "Run data is saved locally in <code>/content/wandb/run-20230527_023924-9yph0tbn</code>"
            ]
          },
          "metadata": {}
        },
        {
          "output_type": "display_data",
          "data": {
            "text/plain": [
              "<IPython.core.display.HTML object>"
            ],
            "text/html": [
              "Syncing run <strong><a href='https://wandb.ai/aus10powell/PoizonTraining/runs/9yph0tbn' target=\"_blank\">pleasant-elevator-72</a></strong> to <a href='https://wandb.ai/aus10powell/PoizonTraining' target=\"_blank\">Weights & Biases</a> (<a href='https://wandb.me/run' target=\"_blank\">docs</a>)<br/>"
            ]
          },
          "metadata": {}
        },
        {
          "output_type": "display_data",
          "data": {
            "text/plain": [
              "<IPython.core.display.HTML object>"
            ],
            "text/html": [
              " View project at <a href='https://wandb.ai/aus10powell/PoizonTraining' target=\"_blank\">https://wandb.ai/aus10powell/PoizonTraining</a>"
            ]
          },
          "metadata": {}
        },
        {
          "output_type": "display_data",
          "data": {
            "text/plain": [
              "<IPython.core.display.HTML object>"
            ],
            "text/html": [
              " View run at <a href='https://wandb.ai/aus10powell/PoizonTraining/runs/9yph0tbn' target=\"_blank\">https://wandb.ai/aus10powell/PoizonTraining/runs/9yph0tbn</a>"
            ]
          },
          "metadata": {}
        },
        {
          "output_type": "stream",
          "name": "stderr",
          "text": [
            "/usr/local/lib/python3.10/dist-packages/keras/optimizers/legacy/adam.py:117: UserWarning: The `lr` argument is deprecated, use `learning_rate` instead.\n",
            "  super().__init__(name, **kwargs)\n"
          ]
        }
      ],
      "source": [
        "image_size = 299\n",
        "batch_size = 4\n",
        "num_classes = 2\n",
        "\n",
        "import wandb\n",
        "#wandb.api.api_key = \"b146bd8bba49024b232861c1a54ded79f12c5078\"\n",
        "wandb.init(entity=\"aus10powell\",project=\"PoizonTraining\")\n",
        "config = wandb.config\n",
        "from keras import regularizers, optimizers\n",
        "from tensorflow.python.keras import layers \n",
        "from tensorflow.keras.applications import MobileNetV2, MobileNetV3Small, MobileNetV3Large\n",
        "from tensorflow.keras.models import Sequential\n",
        "from tensorflow.keras import layers\n",
        "from tensorflow.keras.optimizers import Adam\n",
        "from tensorflow.keras.optimizers import legacy\n",
        "from keras.models import Model\n",
        "\n",
        "\n",
        "\n",
        "######################### From Scratch Model ###################################\n",
        "\n",
        "\n",
        "\n",
        "import tensorflow as tf\n",
        "from tensorflow.keras import backend as K\n",
        "\n",
        "def f1(y_true, y_pred):\n",
        "    y_pred = K.round(y_pred)\n",
        "    tp = K.sum(K.cast(y_true * y_pred, 'float'), axis=0)\n",
        "    tn = K.sum(K.cast((1-y_true) * (1-y_pred), 'float'), axis=0)\n",
        "    fp = K.sum(K.cast((1-y_true) * y_pred, 'float'), axis=0)\n",
        "    fn = K.sum(K.cast(y_true * (1-y_pred), 'float'), axis=0)\n",
        "\n",
        "    precision = tp / (tp + fp + K.epsilon())\n",
        "    recall = tp / (tp + fn + K.epsilon())\n",
        "    f1_score = 2 * precision * recall / (precision + recall + K.epsilon())\n",
        "\n",
        "    return f1_score\n",
        "\n",
        "def recall(y_true, y_pred):\n",
        "    y_pred = K.round(y_pred)\n",
        "    tp = K.sum(K.cast(y_true * y_pred, 'float'), axis=0)\n",
        "    fn = K.sum(K.cast(y_true * (1 - y_pred), 'float'), axis=0)\n",
        "\n",
        "    recall = tp / (tp + fn + K.epsilon())\n",
        "    return recall\n",
        "def precision(y_true, y_pred):\n",
        "    y_pred = K.round(y_pred)\n",
        "    tp = K.sum(K.cast(y_true * y_pred, 'float'), axis=0)\n",
        "    fp = K.sum(K.cast((1 - y_true) * y_pred, 'float'), axis=0)\n",
        "\n",
        "    precision = tp / (tp + fp + K.epsilon())\n",
        "    return precision\n",
        "\n",
        "\n",
        "\n",
        "\n",
        "# def get_model3(image_size):\n",
        "#     config = wandb.config  # Config is a variable that holds and saves hyperparameters and inputs\n",
        "#     config.learning_rate = 0.001\n",
        "#     config.batch_size = batch_size\n",
        "#     config.image_size = image_size\n",
        "#     config.activation = 'relu'\n",
        "#     config.loss = 'binary_crossentropy'\n",
        "#     config.metrics = ['accuracy', f1,recall]\n",
        "\n",
        "#     input_shape = (image_size, image_size, 3)\n",
        "#     base_model = MobileNetV2(input_shape=(image_size, image_size, 3), include_top=False)\n",
        "\n",
        "\n",
        "#     model = Sequential()\n",
        "#     model.add(base_model)\n",
        "#     #model.add(layers.GlobalAveragePooling2D())\n",
        "#     model.add(layers.Dense(128, activation=config.activation))\n",
        "#     model.add(Dense(2, activation='softmax'))\n",
        "#     model.add(layers.Dropout(0.4))\n",
        "#     # model.add(layers.Dense(64, activation=config.activation ))  # Add another dense layer\n",
        "#     # model.add(layers.Dropout(0.4))  # Add dropout to the new dense layer\n",
        "#     model.add(layers.Dense(16, activation=config.activation ))  # Add another dense layer\n",
        "#     model.add(layers.Dropout(0.4))  # Add dropout to the new dense layer\n",
        "#     model.add(layers.Dense(16, activation=config.activation))  # Add another dense layer\n",
        "#     model.add(layers.Dropout(0.4))  # Add dropout to the new dense layer\n",
        "\n",
        "#     model.add(layers.Dense(32, activation=config.activation ))  # Add another dense layer\n",
        "#     model.add(layers.Dropout(0.4))  # Add dropout to the new dense layer\n",
        "#     model.add(layers.Dense(1, activation='sigmoid'))\n",
        "\n",
        "#     model.compile(loss=config.loss,\n",
        "#                   optimizer=legacy.Adam(lr=config.learning_rate, decay=1e-5),\n",
        "#                   metrics=[recall, f1]\n",
        "#                   )\n",
        "\n",
        "#     return model\n",
        "def get_model3(image_size):\n",
        "  config = wandb.config  # Config is a variable that holds and saves hyperparameters and inputs\n",
        "  config.learning_rate = 0.001\n",
        "  config.batch_size = batch_size\n",
        "  config.image_size = image_size\n",
        "  config.activation = 'relu'\n",
        "  config.loss = 'binary_crossentropy'\n",
        "  config.metrics = ['accuracy', f1,recall]\n",
        "  config.dropout = 0.4\n",
        "\n",
        "  base_model = MobileNetV3Small(input_shape=(image_size, image_size, 3), dropout_rate=0.3,weights=None,classes=2,include_top=True)\n",
        "\n",
        "  model = Sequential()\n",
        "  model.add(base_model)\n",
        "  #model.add(layers.GlobalAveragePooling2D())\n",
        "  model.add(Dense(128, activation='relu'))\n",
        "  model.add(Dropout(0.4))\n",
        "  model.add(Dense(1, activation='sigmoid'))\n",
        "\n",
        "  optimizer = keras.optimizers.Adam(lr=0.1, decay=1e-6)\n",
        "  \n",
        "  model.compile(loss='binary_crossentropy',\n",
        "                optimizer=optimizer,\n",
        "                metrics=['accuracy', f1,recall])\n",
        "  \n",
        "  return model\n",
        "\n",
        "\n",
        "model = get_model3(image_size=image_size)\n"
      ]
    },
    {
      "cell_type": "code",
      "execution_count": null,
      "metadata": {
        "id": "0E6FivwaXYKp"
      },
      "outputs": [],
      "source": [
        "# import os\n",
        "# from PIL import Image\n",
        "\n",
        "# def get_average_image_dimensions(root_folder):\n",
        "#     total_width = 0\n",
        "#     total_height = 0\n",
        "#     total_images = 0\n",
        "\n",
        "#     for root, dirs, files in os.walk(root_folder):\n",
        "#         for file in files:\n",
        "#             if file.lower().endswith(\".jpg\"):\n",
        "#                 image_path = os.path.join(root, file)\n",
        "#                 try:\n",
        "#                     image = Image.open(image_path)\n",
        "#                     width, height = image.size\n",
        "#                     total_width += width\n",
        "#                     total_height += height\n",
        "#                     total_images += 1\n",
        "#                 except (IOError, OSError):\n",
        "#                     print(f\"Failed to process image: {image_path}\")\n",
        "\n",
        "#     if total_images > 0:\n",
        "#         average_width = total_width / total_images\n",
        "#         average_height = total_height / total_images\n",
        "#         return average_width, average_height\n",
        "#     else:\n",
        "#         return None\n",
        "\n",
        "# root_folder = train_path\n",
        "# average_dimensions = get_average_image_dimensions(root_folder)\n",
        "\n",
        "# if average_dimensions is not None:\n",
        "#     print(f\"Average Image Dimensions: {average_dimensions[0]} x {average_dimensions[1]} pixels\")\n",
        "# else:\n",
        "#     print(\"No JPEG images found in the subfolders.\")\n"
      ]
    },
    {
      "cell_type": "code",
      "execution_count": 5,
      "metadata": {
        "id": "cDT4gLDQcEuY",
        "colab": {
          "base_uri": "https://localhost:8080/"
        },
        "outputId": "323051e5-7139-4522-9485-9138c3f6a353"
      },
      "outputs": [
        {
          "output_type": "stream",
          "name": "stdout",
          "text": [
            "Found 833 images belonging to 2 classes.\n",
            "Found 214 images belonging to 2 classes.\n",
            "Found 108 images belonging to 2 classes.\n"
          ]
        }
      ],
      "source": [
        "# this is the augmentation configuration we will use for training\n",
        "train_datagen = ImageDataGenerator(\n",
        "        rescale=1./image_size,\n",
        "      #   shear_range=0.2,\n",
        "      zoom_range=[0.8, 1.2],\n",
        "      # #brightness_range=[0.5, 1.5],\n",
        "     rotation_range=45,\n",
        "        horizontal_flip=True,\n",
        "        vertical_flip=True\n",
        ")\n",
        "\n",
        "\n",
        "# this is the augmentation configuration we will use for testing:\n",
        "# only rescaling\n",
        "val_datagen = train_datagen\n",
        "# ImageDataGenerator(\n",
        "#         rescale=1./image_size,\n",
        "#         shear_range=0.2,\n",
        "#         zoom_range=0.2,\n",
        "#       #brightness_range=[0,1],\n",
        "#         rotation_range=45,\n",
        "#         horizontal_flip=True,\n",
        "#         vertical_flip=True\n",
        "# )\n",
        "\n",
        "test_datagen = ImageDataGenerator(\n",
        "        rescale=1./image_size,\n",
        "        shear_range=0.2,\n",
        "\n",
        "        zoom_range=0.2,\n",
        "    rotation_range=15,\n",
        "        horizontal_flip=True,\n",
        "        vertical_flip=True)\n",
        "\n",
        "# this is a generator that will read pictures found in\n",
        "# subfolers of 'data/train', and indefinitely generate\n",
        "# batches of augmented image data\n",
        "train_generator = train_datagen.flow_from_directory(\n",
        "        train_path,  # this is the target directory\n",
        "        target_size=(image_size,image_size),  # all images will be resized to 150x150\n",
        "        batch_size=batch_size,\n",
        "        class_mode='categorical')  # since we use binary_crossentropy loss, we need binary labels\n",
        "\n",
        "# this is a similar generator, for validation data\n",
        "validation_generator = val_datagen.flow_from_directory(\n",
        "        validation_path,\n",
        "        target_size=(image_size,image_size),\n",
        "        batch_size=batch_size,\n",
        "        class_mode='categorical')\n",
        "\n",
        "# this is a similar generator, for validation data\n",
        "test_generator = test_datagen.flow_from_directory(\n",
        "        test_path,\n",
        "        target_size=(image_size,image_size),\n",
        "        batch_size=batch_size,\n",
        "        class_mode='categorical')\n",
        "\n"
      ]
    },
    {
      "cell_type": "markdown",
      "source": [
        "## Training Model"
      ],
      "metadata": {
        "id": "QuT9y5ESojGz"
      }
    },
    {
      "cell_type": "code",
      "execution_count": null,
      "metadata": {
        "colab": {
          "base_uri": "https://localhost:8080/",
          "height": 633
        },
        "id": "FfaBsgK-fHA-",
        "outputId": "759bca95-d38a-4677-dfea-e9b1c24a9b59"
      },
      "outputs": [
        {
          "output_type": "stream",
          "name": "stdout",
          "text": [
            "val_steps 53\n",
            "steps_per_epoch 208\n",
            "Epoch 1/10\n",
            "208/208 [==============================] - 161s 771ms/step - loss: 0.6931 - accuracy: 0.5000 - f1: 0.0000e+00 - recall: 0.0000e+00 - val_loss: 0.6931 - val_accuracy: 0.5000 - val_f1: 0.0000e+00 - val_recall: 0.0000e+00\n",
            "Epoch 2/10\n",
            "208/208 [==============================] - 171s 817ms/step - loss: 0.6931 - accuracy: 0.5000 - f1: 0.0000e+00 - recall: 0.0000e+00 - val_loss: 0.6931 - val_accuracy: 0.5000 - val_f1: 0.0000e+00 - val_recall: 0.0000e+00\n",
            "Epoch 3/10\n",
            "208/208 [==============================] - 163s 778ms/step - loss: 0.6931 - accuracy: 0.5000 - f1: 0.1405 - recall: 0.1719 - val_loss: 0.6931 - val_accuracy: 0.5000 - val_f1: 0.0000e+00 - val_recall: 0.0000e+00\n",
            "Epoch 4/10\n",
            "208/208 [==============================] - 157s 752ms/step - loss: 0.6931 - accuracy: 0.5000 - f1: 0.1597 - recall: 0.1899 - val_loss: 0.6931 - val_accuracy: 0.5000 - val_f1: 0.0000e+00 - val_recall: 0.0000e+00\n",
            "Epoch 5/10\n",
            "208/208 [==============================] - 167s 802ms/step - loss: 0.6931 - accuracy: 0.5000 - f1: 0.1413 - recall: 0.1731 - val_loss: 0.6931 - val_accuracy: 0.5000 - val_f1: 0.0000e+00 - val_recall: 0.0000e+00\n",
            "Epoch 6/10\n",
            "148/208 [====================>.........] - ETA: 34s - loss: 0.6931 - accuracy: 0.5000 - f1: 0.1298 - recall: 0.1622"
          ]
        },
        {
          "output_type": "error",
          "ename": "KeyboardInterrupt",
          "evalue": "ignored",
          "traceback": [
            "\u001b[0;31m---------------------------------------------------------------------------\u001b[0m",
            "\u001b[0;31mKeyboardInterrupt\u001b[0m                         Traceback (most recent call last)",
            "\u001b[0;32m<ipython-input-33-8528b71ddc8a>\u001b[0m in \u001b[0;36m<cell line: 10>\u001b[0;34m()\u001b[0m\n\u001b[1;32m      8\u001b[0m \u001b[0mprint\u001b[0m\u001b[0;34m(\u001b[0m\u001b[0;34m'steps_per_epoch'\u001b[0m\u001b[0;34m,\u001b[0m\u001b[0msteps_per_epoch\u001b[0m\u001b[0;34m)\u001b[0m\u001b[0;34m\u001b[0m\u001b[0;34m\u001b[0m\u001b[0m\n\u001b[1;32m      9\u001b[0m \u001b[0;34m\u001b[0m\u001b[0m\n\u001b[0;32m---> 10\u001b[0;31m history = model.fit(\n\u001b[0m\u001b[1;32m     11\u001b[0m         \u001b[0mtrain_generator\u001b[0m\u001b[0;34m,\u001b[0m\u001b[0;34m\u001b[0m\u001b[0;34m\u001b[0m\u001b[0m\n\u001b[1;32m     12\u001b[0m         \u001b[0msteps_per_epoch\u001b[0m\u001b[0;34m=\u001b[0m\u001b[0msteps_per_epoch\u001b[0m\u001b[0;34m,\u001b[0m\u001b[0;34m\u001b[0m\u001b[0;34m\u001b[0m\u001b[0m\n",
            "\u001b[0;32m/usr/local/lib/python3.10/dist-packages/wandb/integration/keras/keras.py\u001b[0m in \u001b[0;36mnew_v2\u001b[0;34m(*args, **kwargs)\u001b[0m\n\u001b[1;32m    172\u001b[0m             \u001b[0;32mfor\u001b[0m \u001b[0mcbk\u001b[0m \u001b[0;32min\u001b[0m \u001b[0mcbks\u001b[0m\u001b[0;34m:\u001b[0m\u001b[0;34m\u001b[0m\u001b[0;34m\u001b[0m\u001b[0m\n\u001b[1;32m    173\u001b[0m                 \u001b[0mset_wandb_attrs\u001b[0m\u001b[0;34m(\u001b[0m\u001b[0mcbk\u001b[0m\u001b[0;34m,\u001b[0m \u001b[0mval_data\u001b[0m\u001b[0;34m)\u001b[0m\u001b[0;34m\u001b[0m\u001b[0;34m\u001b[0m\u001b[0m\n\u001b[0;32m--> 174\u001b[0;31m         \u001b[0;32mreturn\u001b[0m \u001b[0mold_v2\u001b[0m\u001b[0;34m(\u001b[0m\u001b[0;34m*\u001b[0m\u001b[0margs\u001b[0m\u001b[0;34m,\u001b[0m \u001b[0;34m**\u001b[0m\u001b[0mkwargs\u001b[0m\u001b[0;34m)\u001b[0m\u001b[0;34m\u001b[0m\u001b[0;34m\u001b[0m\u001b[0m\n\u001b[0m\u001b[1;32m    175\u001b[0m \u001b[0;34m\u001b[0m\u001b[0m\n\u001b[1;32m    176\u001b[0m     \u001b[0mtraining_arrays\u001b[0m\u001b[0;34m.\u001b[0m\u001b[0morig_fit_loop\u001b[0m \u001b[0;34m=\u001b[0m \u001b[0mold_arrays\u001b[0m\u001b[0;34m\u001b[0m\u001b[0;34m\u001b[0m\u001b[0m\n",
            "\u001b[0;32m/usr/local/lib/python3.10/dist-packages/wandb/integration/keras/keras.py\u001b[0m in \u001b[0;36mnew_v2\u001b[0;34m(*args, **kwargs)\u001b[0m\n\u001b[1;32m    172\u001b[0m             \u001b[0;32mfor\u001b[0m \u001b[0mcbk\u001b[0m \u001b[0;32min\u001b[0m \u001b[0mcbks\u001b[0m\u001b[0;34m:\u001b[0m\u001b[0;34m\u001b[0m\u001b[0;34m\u001b[0m\u001b[0m\n\u001b[1;32m    173\u001b[0m                 \u001b[0mset_wandb_attrs\u001b[0m\u001b[0;34m(\u001b[0m\u001b[0mcbk\u001b[0m\u001b[0;34m,\u001b[0m \u001b[0mval_data\u001b[0m\u001b[0;34m)\u001b[0m\u001b[0;34m\u001b[0m\u001b[0;34m\u001b[0m\u001b[0m\n\u001b[0;32m--> 174\u001b[0;31m         \u001b[0;32mreturn\u001b[0m \u001b[0mold_v2\u001b[0m\u001b[0;34m(\u001b[0m\u001b[0;34m*\u001b[0m\u001b[0margs\u001b[0m\u001b[0;34m,\u001b[0m \u001b[0;34m**\u001b[0m\u001b[0mkwargs\u001b[0m\u001b[0;34m)\u001b[0m\u001b[0;34m\u001b[0m\u001b[0;34m\u001b[0m\u001b[0m\n\u001b[0m\u001b[1;32m    175\u001b[0m \u001b[0;34m\u001b[0m\u001b[0m\n\u001b[1;32m    176\u001b[0m     \u001b[0mtraining_arrays\u001b[0m\u001b[0;34m.\u001b[0m\u001b[0morig_fit_loop\u001b[0m \u001b[0;34m=\u001b[0m \u001b[0mold_arrays\u001b[0m\u001b[0;34m\u001b[0m\u001b[0;34m\u001b[0m\u001b[0m\n",
            "\u001b[0;32m/usr/local/lib/python3.10/dist-packages/wandb/integration/keras/keras.py\u001b[0m in \u001b[0;36mnew_v2\u001b[0;34m(*args, **kwargs)\u001b[0m\n\u001b[1;32m    172\u001b[0m             \u001b[0;32mfor\u001b[0m \u001b[0mcbk\u001b[0m \u001b[0;32min\u001b[0m \u001b[0mcbks\u001b[0m\u001b[0;34m:\u001b[0m\u001b[0;34m\u001b[0m\u001b[0;34m\u001b[0m\u001b[0m\n\u001b[1;32m    173\u001b[0m                 \u001b[0mset_wandb_attrs\u001b[0m\u001b[0;34m(\u001b[0m\u001b[0mcbk\u001b[0m\u001b[0;34m,\u001b[0m \u001b[0mval_data\u001b[0m\u001b[0;34m)\u001b[0m\u001b[0;34m\u001b[0m\u001b[0;34m\u001b[0m\u001b[0m\n\u001b[0;32m--> 174\u001b[0;31m         \u001b[0;32mreturn\u001b[0m \u001b[0mold_v2\u001b[0m\u001b[0;34m(\u001b[0m\u001b[0;34m*\u001b[0m\u001b[0margs\u001b[0m\u001b[0;34m,\u001b[0m \u001b[0;34m**\u001b[0m\u001b[0mkwargs\u001b[0m\u001b[0;34m)\u001b[0m\u001b[0;34m\u001b[0m\u001b[0;34m\u001b[0m\u001b[0m\n\u001b[0m\u001b[1;32m    175\u001b[0m \u001b[0;34m\u001b[0m\u001b[0m\n\u001b[1;32m    176\u001b[0m     \u001b[0mtraining_arrays\u001b[0m\u001b[0;34m.\u001b[0m\u001b[0morig_fit_loop\u001b[0m \u001b[0;34m=\u001b[0m \u001b[0mold_arrays\u001b[0m\u001b[0;34m\u001b[0m\u001b[0;34m\u001b[0m\u001b[0m\n",
            "\u001b[0;32m/usr/local/lib/python3.10/dist-packages/keras/utils/traceback_utils.py\u001b[0m in \u001b[0;36merror_handler\u001b[0;34m(*args, **kwargs)\u001b[0m\n\u001b[1;32m     63\u001b[0m         \u001b[0mfiltered_tb\u001b[0m \u001b[0;34m=\u001b[0m \u001b[0;32mNone\u001b[0m\u001b[0;34m\u001b[0m\u001b[0;34m\u001b[0m\u001b[0m\n\u001b[1;32m     64\u001b[0m         \u001b[0;32mtry\u001b[0m\u001b[0;34m:\u001b[0m\u001b[0;34m\u001b[0m\u001b[0;34m\u001b[0m\u001b[0m\n\u001b[0;32m---> 65\u001b[0;31m             \u001b[0;32mreturn\u001b[0m \u001b[0mfn\u001b[0m\u001b[0;34m(\u001b[0m\u001b[0;34m*\u001b[0m\u001b[0margs\u001b[0m\u001b[0;34m,\u001b[0m \u001b[0;34m**\u001b[0m\u001b[0mkwargs\u001b[0m\u001b[0;34m)\u001b[0m\u001b[0;34m\u001b[0m\u001b[0;34m\u001b[0m\u001b[0m\n\u001b[0m\u001b[1;32m     66\u001b[0m         \u001b[0;32mexcept\u001b[0m \u001b[0mException\u001b[0m \u001b[0;32mas\u001b[0m \u001b[0me\u001b[0m\u001b[0;34m:\u001b[0m\u001b[0;34m\u001b[0m\u001b[0;34m\u001b[0m\u001b[0m\n\u001b[1;32m     67\u001b[0m             \u001b[0mfiltered_tb\u001b[0m \u001b[0;34m=\u001b[0m \u001b[0m_process_traceback_frames\u001b[0m\u001b[0;34m(\u001b[0m\u001b[0me\u001b[0m\u001b[0;34m.\u001b[0m\u001b[0m__traceback__\u001b[0m\u001b[0;34m)\u001b[0m\u001b[0;34m\u001b[0m\u001b[0;34m\u001b[0m\u001b[0m\n",
            "\u001b[0;32m/usr/local/lib/python3.10/dist-packages/keras/engine/training.py\u001b[0m in \u001b[0;36mfit\u001b[0;34m(self, x, y, batch_size, epochs, verbose, callbacks, validation_split, validation_data, shuffle, class_weight, sample_weight, initial_epoch, steps_per_epoch, validation_steps, validation_batch_size, validation_freq, max_queue_size, workers, use_multiprocessing)\u001b[0m\n\u001b[1;32m   1683\u001b[0m                         ):\n\u001b[1;32m   1684\u001b[0m                             \u001b[0mcallbacks\u001b[0m\u001b[0;34m.\u001b[0m\u001b[0mon_train_batch_begin\u001b[0m\u001b[0;34m(\u001b[0m\u001b[0mstep\u001b[0m\u001b[0;34m)\u001b[0m\u001b[0;34m\u001b[0m\u001b[0;34m\u001b[0m\u001b[0m\n\u001b[0;32m-> 1685\u001b[0;31m                             \u001b[0mtmp_logs\u001b[0m \u001b[0;34m=\u001b[0m \u001b[0mself\u001b[0m\u001b[0;34m.\u001b[0m\u001b[0mtrain_function\u001b[0m\u001b[0;34m(\u001b[0m\u001b[0miterator\u001b[0m\u001b[0;34m)\u001b[0m\u001b[0;34m\u001b[0m\u001b[0;34m\u001b[0m\u001b[0m\n\u001b[0m\u001b[1;32m   1686\u001b[0m                             \u001b[0;32mif\u001b[0m \u001b[0mdata_handler\u001b[0m\u001b[0;34m.\u001b[0m\u001b[0mshould_sync\u001b[0m\u001b[0;34m:\u001b[0m\u001b[0;34m\u001b[0m\u001b[0;34m\u001b[0m\u001b[0m\n\u001b[1;32m   1687\u001b[0m                                 \u001b[0mcontext\u001b[0m\u001b[0;34m.\u001b[0m\u001b[0masync_wait\u001b[0m\u001b[0;34m(\u001b[0m\u001b[0;34m)\u001b[0m\u001b[0;34m\u001b[0m\u001b[0;34m\u001b[0m\u001b[0m\n",
            "\u001b[0;32m/usr/local/lib/python3.10/dist-packages/tensorflow/python/util/traceback_utils.py\u001b[0m in \u001b[0;36merror_handler\u001b[0;34m(*args, **kwargs)\u001b[0m\n\u001b[1;32m    148\u001b[0m     \u001b[0mfiltered_tb\u001b[0m \u001b[0;34m=\u001b[0m \u001b[0;32mNone\u001b[0m\u001b[0;34m\u001b[0m\u001b[0;34m\u001b[0m\u001b[0m\n\u001b[1;32m    149\u001b[0m     \u001b[0;32mtry\u001b[0m\u001b[0;34m:\u001b[0m\u001b[0;34m\u001b[0m\u001b[0;34m\u001b[0m\u001b[0m\n\u001b[0;32m--> 150\u001b[0;31m       \u001b[0;32mreturn\u001b[0m \u001b[0mfn\u001b[0m\u001b[0;34m(\u001b[0m\u001b[0;34m*\u001b[0m\u001b[0margs\u001b[0m\u001b[0;34m,\u001b[0m \u001b[0;34m**\u001b[0m\u001b[0mkwargs\u001b[0m\u001b[0;34m)\u001b[0m\u001b[0;34m\u001b[0m\u001b[0;34m\u001b[0m\u001b[0m\n\u001b[0m\u001b[1;32m    151\u001b[0m     \u001b[0;32mexcept\u001b[0m \u001b[0mException\u001b[0m \u001b[0;32mas\u001b[0m \u001b[0me\u001b[0m\u001b[0;34m:\u001b[0m\u001b[0;34m\u001b[0m\u001b[0;34m\u001b[0m\u001b[0m\n\u001b[1;32m    152\u001b[0m       \u001b[0mfiltered_tb\u001b[0m \u001b[0;34m=\u001b[0m \u001b[0m_process_traceback_frames\u001b[0m\u001b[0;34m(\u001b[0m\u001b[0me\u001b[0m\u001b[0;34m.\u001b[0m\u001b[0m__traceback__\u001b[0m\u001b[0;34m)\u001b[0m\u001b[0;34m\u001b[0m\u001b[0;34m\u001b[0m\u001b[0m\n",
            "\u001b[0;32m/usr/local/lib/python3.10/dist-packages/tensorflow/python/eager/polymorphic_function/polymorphic_function.py\u001b[0m in \u001b[0;36m__call__\u001b[0;34m(self, *args, **kwds)\u001b[0m\n\u001b[1;32m    892\u001b[0m \u001b[0;34m\u001b[0m\u001b[0m\n\u001b[1;32m    893\u001b[0m       \u001b[0;32mwith\u001b[0m \u001b[0mOptionalXlaContext\u001b[0m\u001b[0;34m(\u001b[0m\u001b[0mself\u001b[0m\u001b[0;34m.\u001b[0m\u001b[0m_jit_compile\u001b[0m\u001b[0;34m)\u001b[0m\u001b[0;34m:\u001b[0m\u001b[0;34m\u001b[0m\u001b[0;34m\u001b[0m\u001b[0m\n\u001b[0;32m--> 894\u001b[0;31m         \u001b[0mresult\u001b[0m \u001b[0;34m=\u001b[0m \u001b[0mself\u001b[0m\u001b[0;34m.\u001b[0m\u001b[0m_call\u001b[0m\u001b[0;34m(\u001b[0m\u001b[0;34m*\u001b[0m\u001b[0margs\u001b[0m\u001b[0;34m,\u001b[0m \u001b[0;34m**\u001b[0m\u001b[0mkwds\u001b[0m\u001b[0;34m)\u001b[0m\u001b[0;34m\u001b[0m\u001b[0;34m\u001b[0m\u001b[0m\n\u001b[0m\u001b[1;32m    895\u001b[0m \u001b[0;34m\u001b[0m\u001b[0m\n\u001b[1;32m    896\u001b[0m       \u001b[0mnew_tracing_count\u001b[0m \u001b[0;34m=\u001b[0m \u001b[0mself\u001b[0m\u001b[0;34m.\u001b[0m\u001b[0mexperimental_get_tracing_count\u001b[0m\u001b[0;34m(\u001b[0m\u001b[0;34m)\u001b[0m\u001b[0;34m\u001b[0m\u001b[0;34m\u001b[0m\u001b[0m\n",
            "\u001b[0;32m/usr/local/lib/python3.10/dist-packages/tensorflow/python/eager/polymorphic_function/polymorphic_function.py\u001b[0m in \u001b[0;36m_call\u001b[0;34m(self, *args, **kwds)\u001b[0m\n\u001b[1;32m    924\u001b[0m       \u001b[0;31m# In this case we have created variables on the first call, so we run the\u001b[0m\u001b[0;34m\u001b[0m\u001b[0;34m\u001b[0m\u001b[0m\n\u001b[1;32m    925\u001b[0m       \u001b[0;31m# defunned version which is guaranteed to never create variables.\u001b[0m\u001b[0;34m\u001b[0m\u001b[0;34m\u001b[0m\u001b[0m\n\u001b[0;32m--> 926\u001b[0;31m       \u001b[0;32mreturn\u001b[0m \u001b[0mself\u001b[0m\u001b[0;34m.\u001b[0m\u001b[0m_no_variable_creation_fn\u001b[0m\u001b[0;34m(\u001b[0m\u001b[0;34m*\u001b[0m\u001b[0margs\u001b[0m\u001b[0;34m,\u001b[0m \u001b[0;34m**\u001b[0m\u001b[0mkwds\u001b[0m\u001b[0;34m)\u001b[0m  \u001b[0;31m# pylint: disable=not-callable\u001b[0m\u001b[0;34m\u001b[0m\u001b[0;34m\u001b[0m\u001b[0m\n\u001b[0m\u001b[1;32m    927\u001b[0m     \u001b[0;32melif\u001b[0m \u001b[0mself\u001b[0m\u001b[0;34m.\u001b[0m\u001b[0m_variable_creation_fn\u001b[0m \u001b[0;32mis\u001b[0m \u001b[0;32mnot\u001b[0m \u001b[0;32mNone\u001b[0m\u001b[0;34m:\u001b[0m\u001b[0;34m\u001b[0m\u001b[0;34m\u001b[0m\u001b[0m\n\u001b[1;32m    928\u001b[0m       \u001b[0;31m# Release the lock early so that multiple threads can perform the call\u001b[0m\u001b[0;34m\u001b[0m\u001b[0;34m\u001b[0m\u001b[0m\n",
            "\u001b[0;32m/usr/local/lib/python3.10/dist-packages/tensorflow/python/eager/polymorphic_function/tracing_compiler.py\u001b[0m in \u001b[0;36m__call__\u001b[0;34m(self, *args, **kwargs)\u001b[0m\n\u001b[1;32m    141\u001b[0m       (concrete_function,\n\u001b[1;32m    142\u001b[0m        filtered_flat_args) = self._maybe_define_function(args, kwargs)\n\u001b[0;32m--> 143\u001b[0;31m     return concrete_function._call_flat(\n\u001b[0m\u001b[1;32m    144\u001b[0m         filtered_flat_args, captured_inputs=concrete_function.captured_inputs)  # pylint: disable=protected-access\n\u001b[1;32m    145\u001b[0m \u001b[0;34m\u001b[0m\u001b[0m\n",
            "\u001b[0;32m/usr/local/lib/python3.10/dist-packages/tensorflow/python/eager/polymorphic_function/monomorphic_function.py\u001b[0m in \u001b[0;36m_call_flat\u001b[0;34m(self, args, captured_inputs, cancellation_manager)\u001b[0m\n\u001b[1;32m   1755\u001b[0m         and executing_eagerly):\n\u001b[1;32m   1756\u001b[0m       \u001b[0;31m# No tape is watching; skip to running the function.\u001b[0m\u001b[0;34m\u001b[0m\u001b[0;34m\u001b[0m\u001b[0m\n\u001b[0;32m-> 1757\u001b[0;31m       return self._build_call_outputs(self._inference_function.call(\n\u001b[0m\u001b[1;32m   1758\u001b[0m           ctx, args, cancellation_manager=cancellation_manager))\n\u001b[1;32m   1759\u001b[0m     forward_backward = self._select_forward_and_backward_functions(\n",
            "\u001b[0;32m/usr/local/lib/python3.10/dist-packages/tensorflow/python/eager/polymorphic_function/monomorphic_function.py\u001b[0m in \u001b[0;36mcall\u001b[0;34m(self, ctx, args, cancellation_manager)\u001b[0m\n\u001b[1;32m    379\u001b[0m       \u001b[0;32mwith\u001b[0m \u001b[0m_InterpolateFunctionError\u001b[0m\u001b[0;34m(\u001b[0m\u001b[0mself\u001b[0m\u001b[0;34m)\u001b[0m\u001b[0;34m:\u001b[0m\u001b[0;34m\u001b[0m\u001b[0;34m\u001b[0m\u001b[0m\n\u001b[1;32m    380\u001b[0m         \u001b[0;32mif\u001b[0m \u001b[0mcancellation_manager\u001b[0m \u001b[0;32mis\u001b[0m \u001b[0;32mNone\u001b[0m\u001b[0;34m:\u001b[0m\u001b[0;34m\u001b[0m\u001b[0;34m\u001b[0m\u001b[0m\n\u001b[0;32m--> 381\u001b[0;31m           outputs = execute.execute(\n\u001b[0m\u001b[1;32m    382\u001b[0m               \u001b[0mstr\u001b[0m\u001b[0;34m(\u001b[0m\u001b[0mself\u001b[0m\u001b[0;34m.\u001b[0m\u001b[0msignature\u001b[0m\u001b[0;34m.\u001b[0m\u001b[0mname\u001b[0m\u001b[0;34m)\u001b[0m\u001b[0;34m,\u001b[0m\u001b[0;34m\u001b[0m\u001b[0;34m\u001b[0m\u001b[0m\n\u001b[1;32m    383\u001b[0m               \u001b[0mnum_outputs\u001b[0m\u001b[0;34m=\u001b[0m\u001b[0mself\u001b[0m\u001b[0;34m.\u001b[0m\u001b[0m_num_outputs\u001b[0m\u001b[0;34m,\u001b[0m\u001b[0;34m\u001b[0m\u001b[0;34m\u001b[0m\u001b[0m\n",
            "\u001b[0;32m/usr/local/lib/python3.10/dist-packages/tensorflow/python/eager/execute.py\u001b[0m in \u001b[0;36mquick_execute\u001b[0;34m(op_name, num_outputs, inputs, attrs, ctx, name)\u001b[0m\n\u001b[1;32m     50\u001b[0m   \u001b[0;32mtry\u001b[0m\u001b[0;34m:\u001b[0m\u001b[0;34m\u001b[0m\u001b[0;34m\u001b[0m\u001b[0m\n\u001b[1;32m     51\u001b[0m     \u001b[0mctx\u001b[0m\u001b[0;34m.\u001b[0m\u001b[0mensure_initialized\u001b[0m\u001b[0;34m(\u001b[0m\u001b[0;34m)\u001b[0m\u001b[0;34m\u001b[0m\u001b[0;34m\u001b[0m\u001b[0m\n\u001b[0;32m---> 52\u001b[0;31m     tensors = pywrap_tfe.TFE_Py_Execute(ctx._handle, device_name, op_name,\n\u001b[0m\u001b[1;32m     53\u001b[0m                                         inputs, attrs, num_outputs)\n\u001b[1;32m     54\u001b[0m   \u001b[0;32mexcept\u001b[0m \u001b[0mcore\u001b[0m\u001b[0;34m.\u001b[0m\u001b[0m_NotOkStatusException\u001b[0m \u001b[0;32mas\u001b[0m \u001b[0me\u001b[0m\u001b[0;34m:\u001b[0m\u001b[0;34m\u001b[0m\u001b[0;34m\u001b[0m\u001b[0m\n",
            "\u001b[0;31mKeyboardInterrupt\u001b[0m: "
          ]
        }
      ],
      "source": [
        "epochs = 10\n",
        "\n",
        "val_steps = validation_generator.n // batch_size\n",
        "print('val_steps',val_steps)\n",
        "\n",
        "\n",
        "steps_per_epoch = train_generator.n // batch_size\n",
        "print('steps_per_epoch',steps_per_epoch)\n",
        "\n",
        "history = model.fit(\n",
        "        train_generator,\n",
        "        steps_per_epoch=steps_per_epoch,\n",
        "        epochs=epochs,\n",
        "        shuffle=True,\n",
        "        validation_data=test_generator,\n",
        "        validation_steps=val_steps,\n",
        "    callbacks=[WandbMetricsLogger()])"
      ]
    },
    {
      "cell_type": "code",
      "source": [
        "import os\n",
        "from tensorflow.keras.preprocessing.image import ImageDataGenerator\n",
        "from tensorflow.keras.models import Sequential\n",
        "from tensorflow.keras.layers import Conv2D, MaxPooling2D, Flatten, Dense\n",
        "\n",
        "# Set the paths for the train data\n",
        "\n",
        "train_poison_path = os.path.join(train_path, 'is_poison')\n",
        "train_not_poison_path = os.path.join(train_path, 'not_poison')\n",
        "\n",
        "# Define the input shape and number of classes\n",
        "input_shape = (image_size, image_size, 3) # Adjust the input shape based on your image size\n",
        "num_classes = 2\n",
        "\n",
        "\n",
        "# Set the hyperparameters\n",
        "batch_size = 16\n",
        "epochs = 15\n",
        "\n",
        "# Data augmentation and preprocessing\n",
        "train_datagen = ImageDataGenerator(rescale=1./255)\n",
        "\n",
        "# Load the training data\n",
        "train_generator = train_datagen.flow_from_directory(\n",
        "    train_path,\n",
        "    target_size=input_shape[:2],\n",
        "    batch_size=batch_size,\n",
        "    class_mode='categorical'\n",
        ")\n",
        "import wandb\n",
        "wandb.init(entity=\"aus10powell\",project=\"PoizonTraining\")\n",
        "config = wandb.config\n",
        "config = wandb.config\n",
        "config.learning_rate = 0.05\n",
        "config.dropout1 = 0.04\n",
        "config.dropout_final = 0.04\n",
        "config.input_shape = input_shape\n",
        "config.batch_size = batch_size\n",
        "\n",
        "# Build the model\n",
        "#base_model = MobileNetV3Small(input_shape=input_shape, dropout_rate=0.3,include_top = False, weights=\"imagenet\")\n",
        "\n",
        "### Method 1\n",
        "# model = Sequential()\n",
        "# #model.add(base_model)\n",
        "# model.add(Conv2D(32, (3, 3), activation='relu', input_shape=input_shape))\n",
        "# model.add(MaxPooling2D((2, 2)))\n",
        "# model.add(Conv2D(64, (3, 3), activation='relu'))\n",
        "# model.add(MaxPooling2D((2, 2)))\n",
        "# model.add(Conv2D(128, (3, 3), activation='relu'))\n",
        "# model.add(MaxPooling2D((2, 2)))\n",
        "# #model.add(Dropout(config.dropout1))\n",
        "# model.add(Flatten())\n",
        "# model.add(Dense(128, activation='relu'))\n",
        "# model.add(Dropout(config.dropout_final))\n",
        "# model.add(Dense(num_classes, activation='softmax'))\n",
        "\n",
        "### Method \n",
        "base_model = MobileNetV3Small(weights='imagenet', include_top=False, input_shape=input_shape)\n",
        "base_model.trainable = False\n",
        "model = Sequential()\n",
        "model.add(base_model)\n",
        "model.add(Conv2D(32, (3, 3), activation='relu'))\n",
        "model.add(MaxPooling2D((2, 2)))\n",
        "model.add(Conv2D(64, (3, 3), activation='relu'))\n",
        "model.add(MaxPooling2D((2, 2)))\n",
        "model.add(Flatten())\n",
        "model.add(Dense(128, activation='relu'))\n",
        "model.add(Dropout(config.dropout_final))\n",
        "model.add(Dense(num_classes, activation='softmax'))\n",
        "\n",
        "# # Compile the model\n",
        "optimizer = optimizers.Adam(learning_rate=config.learning_rate)\n",
        "model.compile(optimizer=optimizer, loss='binary_crossentropy', metrics=['accuracy',recall,precision,f1])\n",
        "\n",
        "\n",
        "# Train the model\n",
        "history = model.fit(train_generator, epochs=epochs,validation_data=validation_generator,\n",
        "    callbacks=[WandbMetricsLogger()])\n"
      ],
      "metadata": {
        "colab": {
          "base_uri": "https://localhost:8080/",
          "height": 336,
          "referenced_widgets": [
            "f81f07bbf62449d197e487214f1bede5",
            "4d250b2112e041cbbddd9e05d72f28f9",
            "e0f96811f6714d668784061e40374aa8",
            "ff704ae64d2144bf94e048f8e87af411",
            "64dec7f6962c4a249362d80c6a91fb09",
            "4106b080575644ccaebd528757920126",
            "1092503a20eb4d4c99c1b9f426c31757",
            "9ebc25c02d56467bab8579da57df643e"
          ]
        },
        "id": "O_dMOUxCe9iO",
        "outputId": "ca7814f5-64dc-4efe-95d1-6fa972f3cb3f"
      },
      "execution_count": null,
      "outputs": [
        {
          "output_type": "stream",
          "name": "stdout",
          "text": [
            "Found 833 images belonging to 2 classes.\n"
          ]
        },
        {
          "output_type": "display_data",
          "data": {
            "text/plain": [
              "<IPython.core.display.HTML object>"
            ],
            "text/html": [
              "Finishing last run (ID:wvkw3p4k) before initializing another..."
            ]
          },
          "metadata": {}
        },
        {
          "output_type": "display_data",
          "data": {
            "text/plain": [
              "<IPython.core.display.HTML object>"
            ],
            "text/html": [
              "Waiting for W&B process to finish... <strong style=\"color:green\">(success).</strong>"
            ]
          },
          "metadata": {}
        },
        {
          "output_type": "display_data",
          "data": {
            "text/plain": [
              "VBox(children=(Label(value='0.001 MB of 0.001 MB uploaded (0.000 MB deduped)\\r'), FloatProgress(value=1.0, max…"
            ],
            "application/vnd.jupyter.widget-view+json": {
              "version_major": 2,
              "version_minor": 0,
              "model_id": "f81f07bbf62449d197e487214f1bede5"
            }
          },
          "metadata": {}
        },
        {
          "output_type": "display_data",
          "data": {
            "text/plain": [
              "<IPython.core.display.HTML object>"
            ],
            "text/html": [
              " View run <strong style=\"color:#cdcd00\">deep-sun-76</strong> at: <a href='https://wandb.ai/aus10powell/PoizonTraining/runs/wvkw3p4k' target=\"_blank\">https://wandb.ai/aus10powell/PoizonTraining/runs/wvkw3p4k</a><br/>Synced 5 W&B file(s), 0 media file(s), 0 artifact file(s) and 0 other file(s)"
            ]
          },
          "metadata": {}
        },
        {
          "output_type": "display_data",
          "data": {
            "text/plain": [
              "<IPython.core.display.HTML object>"
            ],
            "text/html": [
              "Find logs at: <code>./wandb/run-20230527_042410-wvkw3p4k/logs</code>"
            ]
          },
          "metadata": {}
        },
        {
          "output_type": "display_data",
          "data": {
            "text/plain": [
              "<IPython.core.display.HTML object>"
            ],
            "text/html": [
              "Successfully finished last run (ID:wvkw3p4k). Initializing new run:<br/>"
            ]
          },
          "metadata": {}
        },
        {
          "output_type": "display_data",
          "data": {
            "text/plain": [
              "<IPython.core.display.HTML object>"
            ],
            "text/html": [
              "Tracking run with wandb version 0.15.3"
            ]
          },
          "metadata": {}
        },
        {
          "output_type": "display_data",
          "data": {
            "text/plain": [
              "<IPython.core.display.HTML object>"
            ],
            "text/html": [
              "Run data is saved locally in <code>/content/wandb/run-20230527_042442-xkexe7eu</code>"
            ]
          },
          "metadata": {}
        },
        {
          "output_type": "display_data",
          "data": {
            "text/plain": [
              "<IPython.core.display.HTML object>"
            ],
            "text/html": [
              "Syncing run <strong><a href='https://wandb.ai/aus10powell/PoizonTraining/runs/xkexe7eu' target=\"_blank\">drawn-dust-77</a></strong> to <a href='https://wandb.ai/aus10powell/PoizonTraining' target=\"_blank\">Weights & Biases</a> (<a href='https://wandb.me/run' target=\"_blank\">docs</a>)<br/>"
            ]
          },
          "metadata": {}
        },
        {
          "output_type": "display_data",
          "data": {
            "text/plain": [
              "<IPython.core.display.HTML object>"
            ],
            "text/html": [
              " View project at <a href='https://wandb.ai/aus10powell/PoizonTraining' target=\"_blank\">https://wandb.ai/aus10powell/PoizonTraining</a>"
            ]
          },
          "metadata": {}
        },
        {
          "output_type": "display_data",
          "data": {
            "text/plain": [
              "<IPython.core.display.HTML object>"
            ],
            "text/html": [
              " View run at <a href='https://wandb.ai/aus10powell/PoizonTraining/runs/xkexe7eu' target=\"_blank\">https://wandb.ai/aus10powell/PoizonTraining/runs/xkexe7eu</a>"
            ]
          },
          "metadata": {}
        },
        {
          "output_type": "stream",
          "name": "stderr",
          "text": [
            "WARNING:tensorflow:`input_shape` is undefined or non-square, or `rows` is not 224. Weights for input shape (224, 224) will be loaded as the default.\n"
          ]
        },
        {
          "output_type": "stream",
          "name": "stdout",
          "text": [
            "Epoch 1/15\n",
            "28/53 [==============>...............] - ETA: 46s - loss: 4.9653 - accuracy: 0.8430 - recall: 0.4821 - precision: 0.4074 - f1: 0.4295"
          ]
        }
      ]
    },
    {
      "cell_type": "markdown",
      "source": [
        "## Evaluation\n",
        "\n"
      ],
      "metadata": {
        "id": "x7tNcr0nodKi"
      }
    },
    {
      "cell_type": "code",
      "execution_count": 9,
      "metadata": {
        "id": "fe085J9raYrK",
        "colab": {
          "base_uri": "https://localhost:8080/",
          "height": 978
        },
        "outputId": "860fbb69-29c8-4bef-e0e8-110b6059d2da"
      },
      "outputs": [
        {
          "output_type": "display_data",
          "data": {
            "text/plain": [
              "<Figure size 640x480 with 1 Axes>"
            ],
            "image/png": "[encoded data removed]"
          },
          "metadata": {}
        },
        {
          "output_type": "display_data",
          "data": {
            "text/plain": [
              "<Figure size 640x480 with 1 Axes>"
            ],
            "image/png": "[encoded data removed]"
          },
          "metadata": {}
        },
        {
          "output_type": "stream",
          "name": "stderr",
          "text": [
            "<ipython-input-9-d25893dd73a2>:21: UserWarning: `Model.evaluate_generator` is deprecated and will be removed in a future version. Please use `Model.evaluate`, which supports generators.\n",
            "  scoreSeg = model.evaluate_generator(test_generator, use_multiprocessing=True)\n"
          ]
        },
        {
          "output_type": "stream",
          "name": "stdout",
          "text": [
            "Test Set Accuracy = 0.9629629850387573\n"
          ]
        }
      ],
      "source": [
        "import matplotlib.pyplot as plt\n",
        "\n",
        "# Plot training & validation accuracy values\n",
        "plt.plot(history.history['f1'])\n",
        "plt.plot(history.history['val_f1'])\n",
        "plt.title('Model accuracy')\n",
        "plt.ylabel('Accuracy')\n",
        "plt.xlabel('Epoch')\n",
        "plt.legend(['Train', 'Validation'], loc='upper left')\n",
        "plt.show()\n",
        "\n",
        "# Plot training & validation loss values\n",
        "plt.plot(history.history['loss'])\n",
        "plt.plot(history.history['val_loss'])\n",
        "plt.title('Model loss')\n",
        "plt.ylabel('Loss')\n",
        "plt.xlabel('Epoch')\n",
        "plt.legend(['Train', 'Validation'], loc='upper left')\n",
        "plt.show()\n",
        "\n",
        "scoreSeg = model.evaluate_generator(test_generator, use_multiprocessing=True)\n",
        "print(\"Test Set Accuracy =\", scoreSeg[1])\n"
      ]
    },
    {
      "cell_type": "code",
      "execution_count": 10,
      "metadata": {
        "id": "4hwNbhdJWgY_",
        "colab": {
          "base_uri": "https://localhost:8080/",
          "height": 630
        },
        "outputId": "5bdfb62c-a1e5-4f26-cc55-928012a58c8b"
      },
      "outputs": [
        {
          "output_type": "error",
          "ename": "ValueError",
          "evalue": "ignored",
          "traceback": [
            "\u001b[0;31m---------------------------------------------------------------------------\u001b[0m",
            "\u001b[0;31mValueError\u001b[0m                                Traceback (most recent call last)",
            "\u001b[0;32m<ipython-input-10-f64f4b9e1c74>\u001b[0m in \u001b[0;36m<cell line: 34>\u001b[0;34m()\u001b[0m\n\u001b[1;32m     32\u001b[0m \u001b[0;31m# # Make predictions\u001b[0m\u001b[0;34m\u001b[0m\u001b[0;34m\u001b[0m\u001b[0m\n\u001b[1;32m     33\u001b[0m \u001b[0;34m\u001b[0m\u001b[0m\n\u001b[0;32m---> 34\u001b[0;31m \u001b[0mpredictions\u001b[0m \u001b[0;34m=\u001b[0m \u001b[0mmodel\u001b[0m\u001b[0;34m.\u001b[0m\u001b[0mpredict\u001b[0m\u001b[0;34m(\u001b[0m\u001b[0mx\u001b[0m\u001b[0;34m)\u001b[0m\u001b[0;34m\u001b[0m\u001b[0;34m\u001b[0m\u001b[0m\n\u001b[0m\u001b[1;32m     35\u001b[0m \u001b[0mpredicted_class\u001b[0m \u001b[0;34m=\u001b[0m \u001b[0;34m\"poison\"\u001b[0m \u001b[0;32mif\u001b[0m \u001b[0mpredictions\u001b[0m\u001b[0;34m[\u001b[0m\u001b[0;36m0\u001b[0m\u001b[0;34m]\u001b[0m\u001b[0;34m[\u001b[0m\u001b[0;36m0\u001b[0m\u001b[0;34m]\u001b[0m \u001b[0;34m>=\u001b[0m \u001b[0;36m0.5\u001b[0m \u001b[0;32melse\u001b[0m \u001b[0;34m\"not_poison\"\u001b[0m\u001b[0;34m\u001b[0m\u001b[0;34m\u001b[0m\u001b[0m\n\u001b[1;32m     36\u001b[0m \u001b[0mcorrect_class\u001b[0m \u001b[0;34m=\u001b[0m \u001b[0mrandom_subdirectory\u001b[0m\u001b[0;34m\u001b[0m\u001b[0;34m\u001b[0m\u001b[0m\n",
            "\u001b[0;32m/usr/local/lib/python3.10/dist-packages/keras/utils/traceback_utils.py\u001b[0m in \u001b[0;36merror_handler\u001b[0;34m(*args, **kwargs)\u001b[0m\n\u001b[1;32m     68\u001b[0m             \u001b[0;31m# To get the full stack trace, call:\u001b[0m\u001b[0;34m\u001b[0m\u001b[0;34m\u001b[0m\u001b[0m\n\u001b[1;32m     69\u001b[0m             \u001b[0;31m# `tf.debugging.disable_traceback_filtering()`\u001b[0m\u001b[0;34m\u001b[0m\u001b[0;34m\u001b[0m\u001b[0m\n\u001b[0;32m---> 70\u001b[0;31m             \u001b[0;32mraise\u001b[0m \u001b[0me\u001b[0m\u001b[0;34m.\u001b[0m\u001b[0mwith_traceback\u001b[0m\u001b[0;34m(\u001b[0m\u001b[0mfiltered_tb\u001b[0m\u001b[0;34m)\u001b[0m \u001b[0;32mfrom\u001b[0m \u001b[0;32mNone\u001b[0m\u001b[0;34m\u001b[0m\u001b[0;34m\u001b[0m\u001b[0m\n\u001b[0m\u001b[1;32m     71\u001b[0m         \u001b[0;32mfinally\u001b[0m\u001b[0;34m:\u001b[0m\u001b[0;34m\u001b[0m\u001b[0;34m\u001b[0m\u001b[0m\n\u001b[1;32m     72\u001b[0m             \u001b[0;32mdel\u001b[0m \u001b[0mfiltered_tb\u001b[0m\u001b[0;34m\u001b[0m\u001b[0;34m\u001b[0m\u001b[0m\n",
            "\u001b[0;32m/usr/local/lib/python3.10/dist-packages/keras/engine/training.py\u001b[0m in \u001b[0;36mtf__predict_function\u001b[0;34m(iterator)\u001b[0m\n\u001b[1;32m     13\u001b[0m                 \u001b[0;32mtry\u001b[0m\u001b[0;34m:\u001b[0m\u001b[0;34m\u001b[0m\u001b[0;34m\u001b[0m\u001b[0m\n\u001b[1;32m     14\u001b[0m                     \u001b[0mdo_return\u001b[0m \u001b[0;34m=\u001b[0m \u001b[0;32mTrue\u001b[0m\u001b[0;34m\u001b[0m\u001b[0;34m\u001b[0m\u001b[0m\n\u001b[0;32m---> 15\u001b[0;31m                     \u001b[0mretval_\u001b[0m \u001b[0;34m=\u001b[0m \u001b[0mag__\u001b[0m\u001b[0;34m.\u001b[0m\u001b[0mconverted_call\u001b[0m\u001b[0;34m(\u001b[0m\u001b[0mag__\u001b[0m\u001b[0;34m.\u001b[0m\u001b[0mld\u001b[0m\u001b[0;34m(\u001b[0m\u001b[0mstep_function\u001b[0m\u001b[0;34m)\u001b[0m\u001b[0;34m,\u001b[0m \u001b[0;34m(\u001b[0m\u001b[0mag__\u001b[0m\u001b[0;34m.\u001b[0m\u001b[0mld\u001b[0m\u001b[0;34m(\u001b[0m\u001b[0mself\u001b[0m\u001b[0;34m)\u001b[0m\u001b[0;34m,\u001b[0m \u001b[0mag__\u001b[0m\u001b[0;34m.\u001b[0m\u001b[0mld\u001b[0m\u001b[0;34m(\u001b[0m\u001b[0miterator\u001b[0m\u001b[0;34m)\u001b[0m\u001b[0;34m)\u001b[0m\u001b[0;34m,\u001b[0m \u001b[0;32mNone\u001b[0m\u001b[0;34m,\u001b[0m \u001b[0mfscope\u001b[0m\u001b[0;34m)\u001b[0m\u001b[0;34m\u001b[0m\u001b[0;34m\u001b[0m\u001b[0m\n\u001b[0m\u001b[1;32m     16\u001b[0m                 \u001b[0;32mexcept\u001b[0m\u001b[0;34m:\u001b[0m\u001b[0;34m\u001b[0m\u001b[0;34m\u001b[0m\u001b[0m\n\u001b[1;32m     17\u001b[0m                     \u001b[0mdo_return\u001b[0m \u001b[0;34m=\u001b[0m \u001b[0;32mFalse\u001b[0m\u001b[0;34m\u001b[0m\u001b[0;34m\u001b[0m\u001b[0m\n",
            "\u001b[0;31mValueError\u001b[0m: in user code:\n\n    File \"/usr/local/lib/python3.10/dist-packages/keras/engine/training.py\", line 2169, in predict_function  *\n        return step_function(self, iterator)\n    File \"/usr/local/lib/python3.10/dist-packages/keras/engine/training.py\", line 2155, in step_function  **\n        outputs = model.distribute_strategy.run(run_step, args=(data,))\n    File \"/usr/local/lib/python3.10/dist-packages/keras/engine/training.py\", line 2143, in run_step  **\n        outputs = model.predict_step(data)\n    File \"/usr/local/lib/python3.10/dist-packages/keras/engine/training.py\", line 2111, in predict_step\n        return self(x, training=False)\n    File \"/usr/local/lib/python3.10/dist-packages/keras/utils/traceback_utils.py\", line 70, in error_handler\n        raise e.with_traceback(filtered_tb) from None\n    File \"/usr/local/lib/python3.10/dist-packages/keras/engine/input_spec.py\", line 298, in assert_input_compatibility\n        raise ValueError(\n\n    ValueError: Input 0 of layer \"sequential_2\" is incompatible with the layer: expected shape=(None, 299, 299, 3), found shape=(None, 150, 150, 3)\n"
          ]
        }
      ],
      "source": [
        "import matplotlib.pyplot as plt\n",
        "import numpy as np\n",
        "import os\n",
        "import random\n",
        "from PIL import Image\n",
        "from keras.preprocessing import image\n",
        "\n",
        "# Path to the directory containing the images\n",
        "image_dir = os.path.join(root_path,\"split_data\",\"test\")  # Replace with the actual path to your image directory\n",
        "\n",
        "# List of subdirectories (class labels)\n",
        "subdirectories = ['is_poison', 'not_poison']\n",
        "\n",
        "# Randomly select a subdirectory\n",
        "random_subdirectory = random.choice(subdirectories)\n",
        "\n",
        "# Get a list of image file names in the selected subdirectory\n",
        "subdirectory_path = os.path.join(image_dir, random_subdirectory)\n",
        "image_files = os.listdir(subdirectory_path)\n",
        "\n",
        "# Randomly select an image file\n",
        "random_image_file = random.choice(image_files)\n",
        "\n",
        "# Load and preprocess the randomly selected image\n",
        "img_path = os.path.join(subdirectory_path, random_image_file)\n",
        "img = Image.open(img_path)\n",
        "#img = img.resize((image_size, image_size))\n",
        "img = img.resize((150, 150))\n",
        "x = np.array(img, dtype=np.float32)  # Convert image data to float\n",
        "x = np.expand_dims(x, axis=0)\n",
        "x /= 255.0\n",
        "# # Make predictions\n",
        "\n",
        "predictions = model.predict(x)\n",
        "predicted_class = \"poison\" if predictions[0][0] >= 0.5 else \"not_poison\"\n",
        "correct_class = random_subdirectory\n",
        "result = \"CORRECT\" if correct_class == predicted_class else \"WRONG\"\n",
        "# Display the image and the predicted class\n",
        "plt.imshow(img)\n",
        "plt.axis('off')\n",
        "plt.title(f\"{result} Predicted: {predicted_class}, True: {correct_class} {predictions}\")\n",
        "plt.show()\n"
      ]
    },
    {
      "cell_type": "code",
      "source": [],
      "metadata": {
        "colab": {
          "base_uri": "https://localhost:8080/"
        },
        "id": "9vr2s-4DnUPu",
        "outputId": "4a7f5260-cfdd-4cf0-87e5-772761c2dbc2"
      },
      "execution_count": null,
      "outputs": [
        {
          "output_type": "execute_result",
          "data": {
            "text/plain": [
              "0.030919993"
            ]
          },
          "metadata": {},
          "execution_count": 53
        }
      ]
    },
    {
      "cell_type": "markdown",
      "source": [
        "### Experimentation"
      ],
      "metadata": {
        "id": "kFAwYOxjo556"
      }
    },
    {
      "cell_type": "code",
      "source": [
        "os.listdir(os.path.join(train_path,\"is_poison\"))"
      ],
      "metadata": {
        "id": "NeSuN4XBpu0O"
      },
      "execution_count": null,
      "outputs": []
    },
    {
      "cell_type": "code",
      "source": [
        "from tensorflow.keras.models import Model\n",
        "from tensorflow.keras.layers import Concatenate\n",
        "\n",
        "def create_unet_model(input_shape):\n",
        "    # Encoder (MobileNetV2)\n",
        "    base_model = MobileNetV2(input_shape=input_shape, include_top=False)\n",
        "    encoder_layers = [base_model.get_layer(name).output for name in ['block_6_expand_relu', 'block_13_expand_relu']]\n",
        "    encoder_output = Concatenate(axis=-1)(encoder_layers)  # Concatenate along the channel axis\n",
        "\n",
        "    # Bottleneck\n",
        "    bottleneck = Conv2D(256, (3, 3), activation='relu', padding='same')(encoder_output)\n",
        "    bottleneck = Conv2D(256, (3, 3), activation='relu', padding='same')(bottleneck)\n",
        "\n",
        "    # Expanding Path (Decoder)\n",
        "    decoder = Conv2DTranspose(128, (2, 2), strides=(2, 2), padding='same')(bottleneck)\n",
        "    decoder = Concatenate(axis=-1)([decoder, base_model.get_layer('block_6_expand_relu').output])\n",
        "    decoder = Conv2D(128, (3, 3), activation='relu', padding='same')(decoder)\n",
        "    decoder = Conv2DTranspose(64, (2, 2), strides=(2, 2), padding='same')(decoder)\n",
        "    decoder = Concatenate(axis=-1)([decoder, base_model.get_layer('block_3_expand_relu').output])\n",
        "    decoder = Conv2D(64, (3, 3), activation='relu', padding='same')(decoder)\n",
        "    decoder = Conv2DTranspose(32, (2, 2), strides=(2, 2), padding='same')(decoder)\n",
        "    decoder = Conv2D(32, (3, 3), activation='relu', padding='same')(decoder)\n",
        "    decoder = Conv2DTranspose(3, (2, 2), strides=(2, 2), padding='same')(decoder)\n",
        "    decoder = Conv2D(3, (3, 3), activation='sigmoid', padding='same')(decoder)\n",
        "\n",
        "    # Create and compile the model\n",
        "    model = Model(inputs=base_model.input, outputs=decoder)\n",
        "    model.compile(optimizer='adam', loss='mse')\n",
        "\n",
        "    return model\n",
        "\n",
        "\n",
        "# Example usage\n",
        "input_shape = (256, 256, 3)\n",
        "model = create_unet_model(input_shape)\n",
        "model.summary()\n",
        "print(\"WE REACHED HERE\")\n",
        "\n",
        "import matplotlib.pyplot as plt\n",
        "import numpy as np\n",
        "from tensorflow.keras.preprocessing.image import load_img, img_to_array\n",
        "from tensorflow.keras.applications.MobileNetV3Small import preprocess_input\n",
        "\n",
        "# Load an example image\n",
        "image_path = os.path.join(train_path,\"is_poison\",'10261057_256751771175326_340419252_n.jpg')\n",
        "image = load_img(image_path, target_size=(256, 256))\n",
        "image_array = img_to_array(image)\n",
        "image_array = preprocess_input(image_array)\n",
        "\n",
        "# Reshape the image array to match the model's input shape\n",
        "image_array = np.expand_dims(image_array, axis=0)\n",
        "\n",
        "# Pass the image through the UNet model to get the segmentation output\n",
        "segmentation_map = model.predict(image_array)\n",
        "segmentation_map = np.squeeze(segmentation_map, axis=0)\n",
        "\n",
        "# Plot the input image and segmentation output\n",
        "fig, axes = plt.subplots(1, 2, figsize=(10, 5))\n",
        "axes[0].imshow(image)\n",
        "axes[0].set_title('Input Image')\n",
        "axes[0].axis('off')\n",
        "axes[1].imshow(segmentation_map, cmap='gray')\n",
        "axes[1].set_title('Segmentation Output')\n",
        "axes[1].axis('off')\n",
        "plt.tight_layout()\n",
        "plt.show()"
      ],
      "metadata": {
        "id": "iH0aTcUPo9j_"
      },
      "execution_count": null,
      "outputs": []
    },
    {
      "cell_type": "code",
      "execution_count": null,
      "metadata": {
        "id": "pVKAWg0uTwSL"
      },
      "outputs": [],
      "source": [
        "### Masks\n",
        "\n",
        "import numpy as np\n",
        "import tensorflow as tf\n",
        "from tensorflow.keras.applications import MobileNetV2\n",
        "from tensorflow.keras.layers import Concatenate, Conv2D, UpSampling2D\n",
        "\n",
        "\n",
        "# Step 4: Generate masks using pre-trained U-Net model\n",
        "def generate_masks(images):\n",
        "    # Load pre-trained U-Net model\n",
        "    unet_model = model#tf.keras.models.load_model('unet_model.h5')\n",
        "\n",
        "    # Preprocess images (e.g., normalization, resizing) before passing through U-Net\n",
        "    preprocessed_images = preprocess_images(images)\n",
        "\n",
        "    # Generate masks using U-Net model\n",
        "    masks = unet_model.predict(preprocessed_images)\n",
        "\n",
        "    return masks\n",
        "\n",
        "# Step 5: Modify input pipeline of MobileNet model to include masks\n",
        "def create_combined_model():\n",
        "    # Load pre-trained MobileNetV2 model\n",
        "    mobilenet_model = MobileNetV2(weights='imagenet', include_top=False)\n",
        "\n",
        "    # Create U-Net model for mask generation\n",
        "    unet_model = create_unet_model()  # Implement your U-Net model creation\n",
        "\n",
        "    # Set MobileNetV2 layers as non-trainable\n",
        "    for layer in mobilenet_model.layers:\n",
        "        layer.trainable = False\n",
        "\n",
        "    # Get intermediate layers of MobileNetV2 for feature extraction\n",
        "    mobilenet_output = mobilenet_model.get_layer('block_13_expand_relu').output\n",
        "\n",
        "    # Upsample masks to match the feature map size\n",
        "    mask_upsampled = UpSampling2D(size=(4, 4))(unet_model.output)\n",
        "\n",
        "    # Concatenate MobileNetV2 features with masks\n",
        "    combined_output = Concatenate()([mobilenet_output, mask_upsampled])\n",
        "\n",
        "    # Additional layers for classification/regression\n",
        "    combined_output = Conv2D(filters=256, kernel_size=(3, 3), activation='relu')(combined_output)\n",
        "    # Add more layers or modify as needed\n",
        "\n",
        "    # Create the combined model\n",
        "    combined_model = Model(inputs=[unet_model.input], outputs=[combined_output])\n",
        "\n",
        "    return combined_model\n",
        "\n",
        "# Example usage\n",
        "images = np.array([...])  # Your image dataset\n",
        "\n",
        "# Step 4: Generate masks using U-Net model\n",
        "masks = generate_masks(images)\n",
        "\n",
        "# Step 5: Create the combined model with MobileNet and masks\n",
        "combined_model = create_combined_model()"
      ]
    },
    {
      "cell_type": "code",
      "execution_count": null,
      "metadata": {
        "id": "DdXv_p5IYyV1"
      },
      "outputs": [],
      "source": [
        "# from fastai.vision.all import *\n",
        "# learn = create_cnn(data, models.resnet34,metrics=[error_rate,accuracy])\n",
        "# Create the CNN model\n",
        "learn = cnn_learner(data, resnet34, metrics=accuracy)\n",
        "\n",
        "# Train the model\n",
        "learn.fine_tune(4)  # Fine-tune the model for 4 epochs\n",
        "\n",
        "# Make predictions\n",
        "preds = learn.get_preds(ds_idx=1, ordered=True) "
      ]
    },
    {
      "cell_type": "markdown",
      "metadata": {
        "id": "w0Nh2y7GH98i"
      },
      "source": [
        "#### Evaluate on loop\n"
      ]
    },
    {
      "cell_type": "code",
      "execution_count": null,
      "metadata": {
        "id": "Pu8KMwN9Y_vh"
      },
      "outputs": [],
      "source": [
        "import numpy as np\n",
        "import os\n",
        "import random\n",
        "from PIL import Image\n",
        "from tqdm import tqdm\n",
        "from keras.preprocessing import image\n",
        "from sklearn.metrics import roc_auc_score\n",
        "\n",
        "# Path to the directory containing the images\n",
        "image_dir = root_path  # Replace with the actual path to your image directory\n",
        "\n",
        "# List of subdirectories (class labels)\n",
        "subdirectories = ['is_poison', 'not_poison']\n",
        "\n",
        "# Number of iterations\n",
        "num_iterations = 100\n",
        "\n",
        "# Lists to store true positive rate (TPR) and false positive rate (FPR)\n",
        "tpr_list = []\n",
        "fpr_list = []\n",
        "\n",
        "# Perform iterations\n",
        "for _ in tqdm(range(num_iterations)):\n",
        "    # Randomly select a subdirectory\n",
        "    random_subdirectory = random.choice(subdirectories)\n",
        "\n",
        "    # Get a list of image file names in the selected subdirectory\n",
        "    subdirectory_path = os.path.join(image_dir, random_subdirectory)\n",
        "    image_files = os.listdir(subdirectory_path)\n",
        "\n",
        "    # Randomly select an image file\n",
        "    random_image_file = random.choice(image_files)\n",
        "\n",
        "    # Load and preprocess the randomly selected image\n",
        "    img_path = os.path.join(subdirectory_path, random_image_file)\n",
        "    img = Image.open(img_path)\n",
        "    img = img.resize((image_size, image_size))\n",
        "    x = np.array(img, dtype=np.float32)  # Convert image data to float\n",
        "    x = np.expand_dims(x, axis=0)\n",
        "    x /= 255.0\n",
        "\n",
        "    # Make predictions\n",
        "    predictions = model.predict(x)\n",
        "    print(predictions[0])\n",
        "    predicted_class = 1 if predictions[0] >= 0.5 else 0\n",
        "    correct_class = 1 if random_subdirectory == 'is_poison' else 0\n",
        "\n",
        "    # Append the predicted and correct classes for ROC AUC calculation\n",
        "    tpr_list.append(correct_class)\n",
        "    fpr_list.append(predicted_class)\n",
        "\n",
        "# Calculate ROC AUC score\n",
        "roc_auc = roc_auc_score(tpr_list, fpr_list)\n",
        "\n",
        "print(\"ROC AUC score:\", roc_auc)\n"
      ]
    }
  ],
  "metadata": {
    "accelerator": "GPU",
    "colab": {
      "provenance": [],
      "gpuType": "T4",
      "include_colab_link": true
    },
    "gpuClass": "standard",
    "kernelspec": {
      "display_name": "Python 3",
      "name": "python3"
    },
    "widgets": {
      "application/vnd.jupyter.widget-state+json": {
        "f81f07bbf62449d197e487214f1bede5": {
          "model_module": "@jupyter-widgets/controls",
          "model_name": "VBoxModel",
          "model_module_version": "1.5.0",
          "state": {
            "_dom_classes": [],
            "_model_module": "@jupyter-widgets/controls",
            "_model_module_version": "1.5.0",
            "_model_name": "VBoxModel",
            "_view_count": null,
            "_view_module": "@jupyter-widgets/controls",
            "_view_module_version": "1.5.0",
            "_view_name": "VBoxView",
            "box_style": "",
            "children": [
              "IPY_MODEL_4d250b2112e041cbbddd9e05d72f28f9",
              "IPY_MODEL_e0f96811f6714d668784061e40374aa8"
            ],
            "layout": "IPY_MODEL_ff704ae64d2144bf94e048f8e87af411"
          }
        },
        "4d250b2112e041cbbddd9e05d72f28f9": {
          "model_module": "@jupyter-widgets/controls",
          "model_name": "LabelModel",
          "model_module_version": "1.5.0",
          "state": {
            "_dom_classes": [],
            "_model_module": "@jupyter-widgets/controls",
            "_model_module_version": "1.5.0",
            "_model_name": "LabelModel",
            "_view_count": null,
            "_view_module": "@jupyter-widgets/controls",
            "_view_module_version": "1.5.0",
            "_view_name": "LabelView",
            "description": "",
            "description_tooltip": null,
            "layout": "IPY_MODEL_64dec7f6962c4a249362d80c6a91fb09",
            "placeholder": "​",
            "style": "IPY_MODEL_4106b080575644ccaebd528757920126",
            "value": "0.001 MB of 0.001 MB uploaded (0.000 MB deduped)\r"
          }
        },
        "e0f96811f6714d668784061e40374aa8": {
          "model_module": "@jupyter-widgets/controls",
          "model_name": "FloatProgressModel",
          "model_module_version": "1.5.0",
          "state": {
            "_dom_classes": [],
            "_model_module": "@jupyter-widgets/controls",
            "_model_module_version": "1.5.0",
            "_model_name": "FloatProgressModel",
            "_view_count": null,
            "_view_module": "@jupyter-widgets/controls",
            "_view_module_version": "1.5.0",
            "_view_name": "ProgressView",
            "bar_style": "",
            "description": "",
            "description_tooltip": null,
            "layout": "IPY_MODEL_1092503a20eb4d4c99c1b9f426c31757",
            "max": 1,
            "min": 0,
            "orientation": "horizontal",
            "style": "IPY_MODEL_9ebc25c02d56467bab8579da57df643e",
            "value": 1
          }
        },
        "ff704ae64d2144bf94e048f8e87af411": {
          "model_module": "@jupyter-widgets/base",
          "model_name": "LayoutModel",
          "model_module_version": "1.2.0",
          "state": {
            "_model_module": "@jupyter-widgets/base",
            "_model_module_version": "1.2.0",
            "_model_name": "LayoutModel",
            "_view_count": null,
            "_view_module": "@jupyter-widgets/base",
            "_view_module_version": "1.2.0",
            "_view_name": "LayoutView",
            "align_content": null,
            "align_items": null,
            "align_self": null,
            "border": null,
            "bottom": null,
            "display": null,
            "flex": null,
            "flex_flow": null,
            "grid_area": null,
            "grid_auto_columns": null,
            "grid_auto_flow": null,
            "grid_auto_rows": null,
            "grid_column": null,
            "grid_gap": null,
            "grid_row": null,
            "grid_template_areas": null,
            "grid_template_columns": null,
            "grid_template_rows": null,
            "height": null,
            "justify_content": null,
            "justify_items": null,
            "left": null,
            "margin": null,
            "max_height": null,
            "max_width": null,
            "min_height": null,
            "min_width": null,
            "object_fit": null,
            "object_position": null,
            "order": null,
            "overflow": null,
            "overflow_x": null,
            "overflow_y": null,
            "padding": null,
            "right": null,
            "top": null,
            "visibility": null,
            "width": null
          }
        },
        "64dec7f6962c4a249362d80c6a91fb09": {
          "model_module": "@jupyter-widgets/base",
          "model_name": "LayoutModel",
          "model_module_version": "1.2.0",
          "state": {
            "_model_module": "@jupyter-widgets/base",
            "_model_module_version": "1.2.0",
            "_model_name": "LayoutModel",
            "_view_count": null,
            "_view_module": "@jupyter-widgets/base",
            "_view_module_version": "1.2.0",
            "_view_name": "LayoutView",
            "align_content": null,
            "align_items": null,
            "align_self": null,
            "border": null,
            "bottom": null,
            "display": null,
            "flex": null,
            "flex_flow": null,
            "grid_area": null,
            "grid_auto_columns": null,
            "grid_auto_flow": null,
            "grid_auto_rows": null,
            "grid_column": null,
            "grid_gap": null,
            "grid_row": null,
            "grid_template_areas": null,
            "grid_template_columns": null,
            "grid_template_rows": null,
            "height": null,
            "justify_content": null,
            "justify_items": null,
            "left": null,
            "margin": null,
            "max_height": null,
            "max_width": null,
            "min_height": null,
            "min_width": null,
            "object_fit": null,
            "object_position": null,
            "order": null,
            "overflow": null,
            "overflow_x": null,
            "overflow_y": null,
            "padding": null,
            "right": null,
            "top": null,
            "visibility": null,
            "width": null
          }
        },
        "4106b080575644ccaebd528757920126": {
          "model_module": "@jupyter-widgets/controls",
          "model_name": "DescriptionStyleModel",
          "model_module_version": "1.5.0",
          "state": {
            "_model_module": "@jupyter-widgets/controls",
            "_model_module_version": "1.5.0",
            "_model_name": "DescriptionStyleModel",
            "_view_count": null,
            "_view_module": "@jupyter-widgets/base",
            "_view_module_version": "1.2.0",
            "_view_name": "StyleView",
            "description_width": ""
          }
        },
        "1092503a20eb4d4c99c1b9f426c31757": {
          "model_module": "@jupyter-widgets/base",
          "model_name": "LayoutModel",
          "model_module_version": "1.2.0",
          "state": {
            "_model_module": "@jupyter-widgets/base",
            "_model_module_version": "1.2.0",
            "_model_name": "LayoutModel",
            "_view_count": null,
            "_view_module": "@jupyter-widgets/base",
            "_view_module_version": "1.2.0",
            "_view_name": "LayoutView",
            "align_content": null,
            "align_items": null,
            "align_self": null,
            "border": null,
            "bottom": null,
            "display": null,
            "flex": null,
            "flex_flow": null,
            "grid_area": null,
            "grid_auto_columns": null,
            "grid_auto_flow": null,
            "grid_auto_rows": null,
            "grid_column": null,
            "grid_gap": null,
            "grid_row": null,
            "grid_template_areas": null,
            "grid_template_columns": null,
            "grid_template_rows": null,
            "height": null,
            "justify_content": null,
            "justify_items": null,
            "left": null,
            "margin": null,
            "max_height": null,
            "max_width": null,
            "min_height": null,
            "min_width": null,
            "object_fit": null,
            "object_position": null,
            "order": null,
            "overflow": null,
            "overflow_x": null,
            "overflow_y": null,
            "padding": null,
            "right": null,
            "top": null,
            "visibility": null,
            "width": null
          }
        },
        "9ebc25c02d56467bab8579da57df643e": {
          "model_module": "@jupyter-widgets/controls",
          "model_name": "ProgressStyleModel",
          "model_module_version": "1.5.0",
          "state": {
            "_model_module": "@jupyter-widgets/controls",
            "_model_module_version": "1.5.0",
            "_model_name": "ProgressStyleModel",
            "_view_count": null,
            "_view_module": "@jupyter-widgets/base",
            "_view_module_version": "1.2.0",
            "_view_name": "StyleView",
            "bar_color": null,
            "description_width": ""
          }
        }
      }
    }
  },
  "nbformat": 4,
  "nbformat_minor": 0
}